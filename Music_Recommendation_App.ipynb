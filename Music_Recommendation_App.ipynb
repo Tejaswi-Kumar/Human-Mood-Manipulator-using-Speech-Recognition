{
  "nbformat": 4,
  "nbformat_minor": 0,
  "metadata": {
    "colab": {
      "name": "Music Recommendation App.ipynb",
      "provenance": [],
      "collapsed_sections": []
    },
    "kernelspec": {
      "name": "python3",
      "display_name": "Python 3"
    },
    "language_info": {
      "name": "python"
    }
  },
  "cells": [
    {
      "cell_type": "code",
      "metadata": {
        "colab": {
          "base_uri": "https://localhost:8080/"
        },
        "id": "w2lCKCarwnzh",
        "outputId": "88ac69cd-7480-490b-adff-8f182c3e5ccc"
      },
      "source": [
        "!pip install ffmpeg-python"
      ],
      "execution_count": null,
      "outputs": [
        {
          "output_type": "stream",
          "text": [
            "Collecting ffmpeg-python\n",
            "  Downloading https://files.pythonhosted.org/packages/d7/0c/56be52741f75bad4dc6555991fabd2e07b432d333da82c11ad701123888a/ffmpeg_python-0.2.0-py3-none-any.whl\n",
            "Requirement already satisfied: future in /usr/local/lib/python3.7/dist-packages (from ffmpeg-python) (0.16.0)\n",
            "Installing collected packages: ffmpeg-python\n",
            "Successfully installed ffmpeg-python-0.2.0\n"
          ],
          "name": "stdout"
        }
      ]
    },
    {
      "cell_type": "code",
      "metadata": {
        "id": "8g3BmhaWxKMP"
      },
      "source": [
        "from IPython.display import HTML, Audio\n",
        "from google.colab.output import eval_js\n",
        "from base64 import b64decode\n",
        "import numpy as np\n",
        "from scipy.io.wavfile import read as wav_read\n",
        "import io\n",
        "import ffmpeg\n",
        "\n",
        "AUDIO_HTML = \"\"\"\n",
        "<script>\n",
        "var my_div = document.createElement(\"DIV\");\n",
        "var my_p = document.createElement(\"P\");\n",
        "var my_btn = document.createElement(\"BUTTON\");\n",
        "var t = document.createTextNode(\"Press to start recording\");\n",
        "\n",
        "my_btn.appendChild(t);\n",
        "//my_p.appendChild(my_btn);\n",
        "my_div.appendChild(my_btn);\n",
        "document.body.appendChild(my_div);\n",
        "\n",
        "var base64data = 0;\n",
        "var reader;\n",
        "var recorder, gumStream;\n",
        "var recordButton = my_btn;\n",
        "\n",
        "var handleSuccess = function(stream) {\n",
        "  gumStream = stream;\n",
        "  var options = {\n",
        "    //bitsPerSecond: 8000, //chrome seems to ignore, always 48k\n",
        "    mimeType : 'audio/webm;codecs=opus'\n",
        "    //mimeType : 'audio/webm;codecs=pcm'\n",
        "  };            \n",
        "  //recorder = new MediaRecorder(stream, options);\n",
        "  recorder = new MediaRecorder(stream);\n",
        "  recorder.ondataavailable = function(e) {            \n",
        "    var url = URL.createObjectURL(e.data);\n",
        "    var preview = document.createElement('audio');\n",
        "    preview.controls = true;\n",
        "    preview.src = url;\n",
        "    document.body.appendChild(preview);\n",
        "\n",
        "    reader = new FileReader();\n",
        "    reader.readAsDataURL(e.data); \n",
        "    reader.onloadend = function() {\n",
        "      base64data = reader.result;\n",
        "      //console.log(\"Inside FileReader:\" + base64data);\n",
        "    }\n",
        "  };\n",
        "  recorder.start();\n",
        "  };\n",
        "\n",
        "recordButton.innerText = \"Recording... press to stop\";\n",
        "\n",
        "navigator.mediaDevices.getUserMedia({audio: true}).then(handleSuccess);\n",
        "\n",
        "\n",
        "function toggleRecording() {\n",
        "  if (recorder && recorder.state == \"recording\") {\n",
        "      recorder.stop();\n",
        "      gumStream.getAudioTracks()[0].stop();\n",
        "      recordButton.innerText = \"Saving the recording... pls wait!\"\n",
        "  }\n",
        "}\n",
        "\n",
        "// https://stackoverflow.com/a/951057\n",
        "function sleep(ms) {\n",
        "  return new Promise(resolve => setTimeout(resolve, ms));\n",
        "}\n",
        "\n",
        "var data = new Promise(resolve=>{\n",
        "//recordButton.addEventListener(\"click\", toggleRecording);\n",
        "recordButton.onclick = ()=>{\n",
        "toggleRecording()\n",
        "\n",
        "sleep(2000).then(() => {\n",
        "  // wait 2000ms for the data to be available...\n",
        "  // ideally this should use something like await...\n",
        "  //console.log(\"Inside data:\" + base64data)\n",
        "  resolve(base64data.toString())\n",
        "\n",
        "});\n",
        "\n",
        "}\n",
        "});\n",
        "      \n",
        "</script>\n",
        "\"\"\"\n",
        "\n",
        "def get_audio():\n",
        "  display(HTML(AUDIO_HTML))\n",
        "  data = eval_js(\"data\")\n",
        "  binary = b64decode(data.split(',')[1])\n",
        "  \n",
        "  process = (ffmpeg\n",
        "    .input('pipe:0')\n",
        "    .output('pipe:1', format='wav')\n",
        "    .run_async(pipe_stdin=True, pipe_stdout=True, pipe_stderr=True, quiet=True, overwrite_output=True)\n",
        "  )\n",
        "  output, err = process.communicate(input=binary)\n",
        "  \n",
        "  riff_chunk_size = len(output) - 8\n",
        "  # Break up the chunk size into four bytes, held in b.\n",
        "  q = riff_chunk_size\n",
        "  b = []\n",
        "  for i in range(4):\n",
        "      q, r = divmod(q, 256)\n",
        "      b.append(r)\n",
        "\n",
        "  # Replace bytes 4:8 in proc.stdout with the actual size of the RIFF chunk.\n",
        "  riff = output[:4] + bytes(b) + output[8:]\n",
        "\n",
        "  sr, audio = wav_read(io.BytesIO(riff))\n",
        "\n",
        "  return audio, sr"
      ],
      "execution_count": null,
      "outputs": []
    },
    {
      "cell_type": "code",
      "metadata": {
        "colab": {
          "base_uri": "https://localhost:8080/"
        },
        "id": "09lrUH74xVmT",
        "outputId": "e8d7a48a-8902-4398-87ec-0718f3d44b78"
      },
      "source": [
        "#mounting a folder\n",
        "from google.colab import drive\n",
        "drive.mount('/content/drive')\n",
        "# !ls /content/drive/My\\ Drive/Rawdata"
      ],
      "execution_count": null,
      "outputs": [
        {
          "output_type": "stream",
          "text": [
            "Mounted at /content/drive\n"
          ],
          "name": "stdout"
        }
      ]
    },
    {
      "cell_type": "code",
      "metadata": {
        "colab": {
          "base_uri": "https://localhost:8080/",
          "height": 97
        },
        "id": "cSmssL1LxOIc",
        "outputId": "0c69385b-8fc0-4d5e-d41b-eb19a98c6e5f"
      },
      "source": [
        "audio, sr = get_audio()"
      ],
      "execution_count": null,
      "outputs": [
        {
          "output_type": "display_data",
          "data": {
            "text/html": [
              "\n",
              "<script>\n",
              "var my_div = document.createElement(\"DIV\");\n",
              "var my_p = document.createElement(\"P\");\n",
              "var my_btn = document.createElement(\"BUTTON\");\n",
              "var t = document.createTextNode(\"Press to start recording\");\n",
              "\n",
              "my_btn.appendChild(t);\n",
              "//my_p.appendChild(my_btn);\n",
              "my_div.appendChild(my_btn);\n",
              "document.body.appendChild(my_div);\n",
              "\n",
              "var base64data = 0;\n",
              "var reader;\n",
              "var recorder, gumStream;\n",
              "var recordButton = my_btn;\n",
              "\n",
              "var handleSuccess = function(stream) {\n",
              "  gumStream = stream;\n",
              "  var options = {\n",
              "    //bitsPerSecond: 8000, //chrome seems to ignore, always 48k\n",
              "    mimeType : 'audio/webm;codecs=opus'\n",
              "    //mimeType : 'audio/webm;codecs=pcm'\n",
              "  };            \n",
              "  //recorder = new MediaRecorder(stream, options);\n",
              "  recorder = new MediaRecorder(stream);\n",
              "  recorder.ondataavailable = function(e) {            \n",
              "    var url = URL.createObjectURL(e.data);\n",
              "    var preview = document.createElement('audio');\n",
              "    preview.controls = true;\n",
              "    preview.src = url;\n",
              "    document.body.appendChild(preview);\n",
              "\n",
              "    reader = new FileReader();\n",
              "    reader.readAsDataURL(e.data); \n",
              "    reader.onloadend = function() {\n",
              "      base64data = reader.result;\n",
              "      //console.log(\"Inside FileReader:\" + base64data);\n",
              "    }\n",
              "  };\n",
              "  recorder.start();\n",
              "  };\n",
              "\n",
              "recordButton.innerText = \"Recording... press to stop\";\n",
              "\n",
              "navigator.mediaDevices.getUserMedia({audio: true}).then(handleSuccess);\n",
              "\n",
              "\n",
              "function toggleRecording() {\n",
              "  if (recorder && recorder.state == \"recording\") {\n",
              "      recorder.stop();\n",
              "      gumStream.getAudioTracks()[0].stop();\n",
              "      recordButton.innerText = \"Saving the recording... pls wait!\"\n",
              "  }\n",
              "}\n",
              "\n",
              "// https://stackoverflow.com/a/951057\n",
              "function sleep(ms) {\n",
              "  return new Promise(resolve => setTimeout(resolve, ms));\n",
              "}\n",
              "\n",
              "var data = new Promise(resolve=>{\n",
              "//recordButton.addEventListener(\"click\", toggleRecording);\n",
              "recordButton.onclick = ()=>{\n",
              "toggleRecording()\n",
              "\n",
              "sleep(2000).then(() => {\n",
              "  // wait 2000ms for the data to be available...\n",
              "  // ideally this should use something like await...\n",
              "  //console.log(\"Inside data:\" + base64data)\n",
              "  resolve(base64data.toString())\n",
              "\n",
              "});\n",
              "\n",
              "}\n",
              "});\n",
              "      \n",
              "</script>\n"
            ],
            "text/plain": [
              "<IPython.core.display.HTML object>"
            ]
          },
          "metadata": {
            "tags": []
          }
        }
      ]
    },
    {
      "cell_type": "code",
      "metadata": {
        "colab": {
          "base_uri": "https://localhost:8080/",
          "height": 592
        },
        "id": "cbjHwGRvxQ0C",
        "outputId": "b7fc11e1-43c3-40b3-c1ec-2689d72e9d74"
      },
      "source": [
        "import matplotlib.pyplot as plt\n",
        "plt.figure(figsize=(20,10))\n",
        "plt.plot(audio)\n",
        "plt.show()"
      ],
      "execution_count": null,
      "outputs": [
        {
          "output_type": "display_data",
          "data": {
            "image/png": "[encoded data removed]",
            "text/plain": [
              "<Figure size 1440x720 with 1 Axes>"
            ]
          },
          "metadata": {
            "tags": [],
            "needs_background": "light"
          }
        }
      ]
    },
    {
      "cell_type": "code",
      "metadata": {
        "colab": {
          "base_uri": "https://localhost:8080/"
        },
        "id": "0b1wnhsZxZA_",
        "outputId": "ff9c655e-c49d-4335-f983-9f7c8bc8d46a"
      },
      "source": [
        "# loading json and creating model\n",
        "from keras.models import model_from_json\n",
        "import keras\n",
        "json_file = open('/content/drive/My Drive/saved_model/model.json', 'r')\n",
        "loaded_model_json = json_file.read()\n",
        "json_file.close()\n",
        "loaded_model = model_from_json(loaded_model_json)\n",
        "\n",
        "# load weights into new model\n",
        "loaded_model.load_weights(\"/content/drive/My Drive/saved_model/CNN.h5\")\n",
        "print(\"Loaded model from disk\")"
      ],
      "execution_count": null,
      "outputs": [
        {
          "output_type": "stream",
          "text": [
            "Loaded model from disk\n"
          ],
          "name": "stdout"
        }
      ]
    },
    {
      "cell_type": "code",
      "metadata": {
        "id": "jfvUIFoROTrp"
      },
      "source": [
        "import wave\n",
        "from scipy.io.wavfile import write as ww\n",
        "output='/content/drive/My Drive/saved_model/output.wav'\n",
        "ww(output,sr,audio)"
      ],
      "execution_count": null,
      "outputs": []
    },
    {
      "cell_type": "code",
      "metadata": {
        "id": "Ww-lNqA6QKdE"
      },
      "source": [
        "import librosa\n",
        "data, sampling_rate = librosa.load(output)"
      ],
      "execution_count": null,
      "outputs": []
    },
    {
      "cell_type": "code",
      "metadata": {
        "colab": {
          "base_uri": "https://localhost:8080/",
          "height": 368
        },
        "id": "2yXsMIu4QgBV",
        "outputId": "c18ab6af-3be2-45e1-d8bf-b6b7b70035ce"
      },
      "source": [
        "% pylab inline\n",
        "import os\n",
        "import pandas as pd\n",
        "import librosa.display\n",
        "import glob \n",
        "\n",
        "plt.figure(figsize=(15, 5))\n",
        "librosa.display.waveplot(data, sr=sampling_rate)"
      ],
      "execution_count": null,
      "outputs": [
        {
          "output_type": "stream",
          "text": [
            "Populating the interactive namespace from numpy and matplotlib\n"
          ],
          "name": "stdout"
        },
        {
          "output_type": "execute_result",
          "data": {
            "text/plain": [
              "<matplotlib.collections.PolyCollection at 0x7f2b44e8cad0>"
            ]
          },
          "metadata": {
            "tags": []
          },
          "execution_count": 9
        },
        {
          "output_type": "display_data",
          "data": {
            "image/png": "[encoded data removed]",
            "text/plain": [
              "<Figure size 1080x360 with 1 Axes>"
            ]
          },
          "metadata": {
            "tags": [],
            "needs_background": "light"
          }
        }
      ]
    },
    {
      "cell_type": "code",
      "metadata": {
        "id": "hNeqMYZ1V6gO",
        "colab": {
          "base_uri": "https://localhost:8080/"
        },
        "outputId": "cd8893af-0b4a-4915-cd26-60bb77b4b395"
      },
      "source": [
        "livedf2=pd.DataFrame([])\n",
        "for i in range(2,10):\n",
        "  if len(livedf2.columns)<256:\n",
        "    X, sample_rate = librosa.load(output, res_type='kaiser_fast',duration=2.5,sr=22050*i,offset=0.5)\n",
        "    sample_rate = np.array(sample_rate)\n",
        "    mfccs = np.mean(librosa.feature.mfcc(y=X, sr=sample_rate, n_mfcc=13),axis=0)\n",
        "    featurelive = mfccs\n",
        "    livedf2 = featurelive\n",
        "    livedf2= pd.DataFrame(data=livedf2)\n",
        "    livedf2 = livedf2.stack().to_frame().T\n",
        "  else:\n",
        "    if len(livedf2.columns)>290:\n",
        "      X, sample_rate = librosa.load(output, res_type='kaiser_fast',duration=2.5,sr=22050*(i-1.5),offset=0.5)\n",
        "      sample_rate = np.array(sample_rate)\n",
        "      mfccs = np.mean(librosa.feature.mfcc(y=X, sr=sample_rate, n_mfcc=13),axis=0)\n",
        "      featurelive = mfccs\n",
        "      livedf2 = featurelive\n",
        "      livedf2= pd.DataFrame(data=livedf2)\n",
        "      livedf2 = livedf2.stack().to_frame().T\n",
        "    break\n",
        "print(livedf2)"
      ],
      "execution_count": null,
      "outputs": [
        {
          "output_type": "stream",
          "text": [
            "         0          1          2    ...        284        285        286\n",
            "           0          0          0  ...          0          0          0\n",
            "0 -35.607777 -36.064449 -37.092667  ... -40.065121 -39.332485 -37.978348\n",
            "\n",
            "[1 rows x 287 columns]\n"
          ],
          "name": "stdout"
        }
      ]
    },
    {
      "cell_type": "code",
      "metadata": {
        "colab": {
          "base_uri": "https://localhost:8080/"
        },
        "id": "Zyx_WXSdWLev",
        "outputId": "683246b5-1ef4-411a-95c8-655058e8a179"
      },
      "source": [
        "twodim= np.expand_dims(livedf2, axis=2)\n",
        "livepreds = loaded_model.predict(twodim, batch_size=32,verbose=1)"
      ],
      "execution_count": null,
      "outputs": [
        {
          "output_type": "stream",
          "text": [
            "WARNING:tensorflow:Model was constructed with shape (None, 259, 1) for input KerasTensor(type_spec=TensorSpec(shape=(None, 259, 1), dtype=tf.float32, name='conv1d_input'), name='conv1d_input', description=\"created by layer 'conv1d_input'\"), but it was called on an input with incompatible shape (None, 287, 1).\n",
            "1/1 [==============================] - 10s 10s/step\n"
          ],
          "name": "stdout"
        }
      ]
    },
    {
      "cell_type": "code",
      "metadata": {
        "colab": {
          "base_uri": "https://localhost:8080/"
        },
        "id": "Z5ycqEdwfHgl",
        "outputId": "dba9e4e8-52bb-4781-a31b-d33e520b9c79"
      },
      "source": [
        "print(livepreds)\n",
        "livepreds1=livepreds.argmax(axis=1)\n",
        "liveabc = livepreds1.astype(int).flatten()"
      ],
      "execution_count": null,
      "outputs": [
        {
          "output_type": "stream",
          "text": [
            "[[1.01811602e-03 2.77636369e-04 4.96576657e-04 2.92678043e-04\n",
            "  2.18884656e-04 3.14888806e-04 9.44340791e-05 8.94333716e-05\n",
            "  1.43703958e-02 1.53905945e-02 5.85351512e-02 8.03580880e-01\n",
            "  9.15564597e-03 1.23904655e-02 7.71282390e-02 6.64595980e-03]]\n"
          ],
          "name": "stdout"
        }
      ]
    },
    {
      "cell_type": "code",
      "metadata": {
        "colab": {
          "base_uri": "https://localhost:8080/"
        },
        "id": "piMWtp2-fS8F",
        "outputId": "0b50784c-09e8-4982-b2fc-15f74e983403"
      },
      "source": [
        "dir_list = os.listdir('/content/drive/My Drive/data/')\n",
        "dir_list.sort()\n",
        "print (dir_list)"
      ],
      "execution_count": null,
      "outputs": [
        {
          "output_type": "stream",
          "text": [
            "['Actor_01', 'Actor_02', 'Actor_03', 'Actor_04', 'Actor_05', 'Actor_06', 'Actor_07', 'Actor_08', 'Actor_09', 'Actor_10', 'Actor_11', 'Actor_12', 'Actor_13', 'Actor_14', 'Actor_15', 'Actor_16', 'Actor_17', 'Actor_18', 'Actor_19', 'Actor_20', 'Actor_21', 'Actor_22', 'Actor_23', 'Actor_24']\n"
          ],
          "name": "stdout"
        }
      ]
    },
    {
      "cell_type": "code",
      "metadata": {
        "id": "0AGxoz_zE9_N"
      },
      "source": [
        "from sklearn.preprocessing import LabelEncoder\n",
        "lb = LabelEncoder()\n",
        "lb.classes_ = numpy.load('/content/drive/My Drive/saved_model/classes.npy',allow_pickle=True)"
      ],
      "execution_count": null,
      "outputs": []
    },
    {
      "cell_type": "code",
      "metadata": {
        "colab": {
          "base_uri": "https://localhost:8080/"
        },
        "id": "HUgQtBoBfTA2",
        "outputId": "f0e65912-980f-4b5b-9105-20169656fedc"
      },
      "source": [
        "livepredictions = (lb.inverse_transform((liveabc)))\n",
        "print(\"Emotion detected: \"+livepredictions[0])"
      ],
      "execution_count": null,
      "outputs": [
        {
          "output_type": "stream",
          "text": [
            "Emotion detected: male_happy\n"
          ],
          "name": "stdout"
        }
      ]
    },
    {
      "cell_type": "code",
      "metadata": {
        "colab": {
          "base_uri": "https://localhost:8080/"
        },
        "id": "c-ljXA01_Fvm",
        "outputId": "34903ad2-24b4-497a-c5ac-dcc3ce7087b2"
      },
      "source": [
        "if(livepredictions[0]=='male_sad'):\n",
        "  print(\"Suggested Playlist: \"+ \"https://open.spotify.com/playlist/7ABD15iASBIpPP5uJ5awvq\")\n",
        "elif(livepredictions[0]=='female_sad'):\n",
        "  print(\"Suggested Playlist: \"+ \"https://open.spotify.com/playlist/37i9dQZF1DX7qK8ma5wgG1\")\n",
        "elif(livepredictions[0]=='male_happy'):\n",
        "  print(\"Suggested Playlist: \"+ \"https://open.spotify.com/playlist/37i9dQZF1DXdPec7aLTmlC\")\n",
        "elif(livepredictions[0]=='female_happy'):\n",
        "  print(\"Suggested Playlist: \"+ \"https://open.spotify.com/playlist/1h90L3LP8kAJ7KGjCV2Xfd\")\n",
        "elif(livepredictions[0]=='male_neutral'):\n",
        "  print(\"Suggested Playlist: \"+ \"https://open.spotify.com/playlist/30TI3KL6mgjAHsE40w27cZ\")\n",
        "elif(livepredictions[0]=='female_neutral'):\n",
        "  print(\"Suggested Playlist: \"+ \"https://open.spotify.com/playlist/2cThrQdD7NWH8kKJOFWKbt\")\n",
        "elif(livepredictions[0]=='male_scared'):\n",
        "  print(\"Suggested Playlist: \"+ \"https://open.spotify.com/playlist/7rzS9iLiqjy65AsZd9qinf\")\n",
        "elif(livepredictions[0]=='female_scared'):\n",
        "  print(\"Suggested Playlist: \"+ \"https://open.spotify.com/playlist/24cfndqnttuOPHEWfagCGG\")\n",
        "elif(livepredictions[0]=='male_angry'):\n",
        "  print(\"Suggested Playlist: \"+ \"https://open.spotify.com/playlist/6ft4ijUITtTeVC0dUCDdvH\")\n",
        "elif(livepredictions[0]=='female_angry'):\n",
        "  print(\"Suggested Playlist: \"+ \"https://open.spotify.com/playlist/5AiPzkrvxDguoJy9CR0OdF\")\n",
        "elif(livepredictions[0]=='male_calm'):\n",
        "  print(\"Suggested Playlist: \"+ \"https://open.spotify.com/playlist/30TI3KL6mgjAHsE40w27cZ\")\n",
        "elif(livepredictions[0]=='female_calm'):\n",
        "  print(\"Suggested Playlist: \"+ \"https://open.spotify.com/playlist/2cThrQdD7NWH8kKJOFWKbt\")\n",
        "elif(livepredictions[0]=='male_disgust'):\n",
        "  print(\"Suggested Playlist: \"+ \"https://open.spotify.com/playlist/6ft4ijUITtTeVC0dUCDdvH\")\n",
        "elif(livepredictions[0]=='female_disgust'):\n",
        "  print(\"Suggested Playlist: \"+ \"https://open.spotify.com/playlist/5AiPzkrvxDguoJy9CR0OdF\")\n",
        "elif(livepredictions[0]=='male_surprised'):\n",
        "  print(\"Suggested Playlist: \"+ \"https://open.spotify.com/playlist/3H4UpSojtelWKZh41wjPFH\")\n",
        "elif(livepredictions[0]=='female_surprised'):\n",
        "  print(\"Suggested Playlist: \"+ \"https://open.spotify.com/playlist/3H4UpSojtelWKZh41wjPFH\")\n"
      ],
      "execution_count": null,
      "outputs": [
        {
          "output_type": "stream",
          "text": [
            "Suggested Playlist: https://open.spotify.com/playlist/37i9dQZF1DXdPec7aLTmlC\n"
          ],
          "name": "stdout"
        }
      ]
    }
  ]
}